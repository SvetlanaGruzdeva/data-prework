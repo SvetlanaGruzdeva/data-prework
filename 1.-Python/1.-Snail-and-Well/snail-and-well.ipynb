{
 "cells": [
  {
   "cell_type": "markdown",
   "metadata": {},
   "source": [
    "<img src=\"https://bit.ly/2VnXWr2\" width=\"100\" align=\"left\">"
   ]
  },
  {
   "cell_type": "markdown",
   "metadata": {},
   "source": [
    "# The Snail and the Well\n",
    "\n",
    "A snail falls at the bottom of a 125 cm well. Each day the snail rises 30 cm. But at night, while sleeping, slides 20 cm because the walls are wet. How many days does it take for the snail to escape the well?\n",
    "\n",
    "**Hint**: The snail gets out of the well when it surpasses the 125cm of height.\n",
    "\n",
    "## Tools\n",
    "\n",
    "1. Loop: **while**\n",
    "2. Conditional statements: **if-else**\n",
    "3. Function: **print()**\n",
    "\n",
    "## Tasks\n",
    "\n",
    "#### 1. Assign the challenge data to variables with representative names: `well_height`, `daily_distance`, `nightly_distance` and `snail_position`."
   ]
  },
  {
   "cell_type": "code",
   "execution_count": 1,
   "metadata": {},
   "outputs": [],
   "source": [
    "well_height = 125\n",
    "daily_distance = 30\n",
    "nightly_distance = 20\n",
    "snail_position = 0"
   ]
  },
  {
   "cell_type": "markdown",
   "metadata": {},
   "source": [
    "#### 2. Create a variable `days` to keep count of the days that pass until the snail escapes the well. "
   ]
  },
  {
   "cell_type": "code",
   "execution_count": 2,
   "metadata": {},
   "outputs": [],
   "source": [
    "days = 0"
   ]
  },
  {
   "cell_type": "markdown",
   "metadata": {},
   "source": [
    "#### 3. Find the solution to the challenge using the variables defined above. "
   ]
  },
  {
   "cell_type": "code",
   "execution_count": 3,
   "metadata": {},
   "outputs": [],
   "source": [
    "while snail_position < well_height:\n",
    "    days += 1    \n",
    "    snail_position += daily_distance\n",
    "    if snail_position < well_height:\n",
    "        snail_position -= nightly_distance"
   ]
  },
  {
   "cell_type": "markdown",
   "metadata": {},
   "source": [
    "#### 4. Print the solution."
   ]
  },
  {
   "cell_type": "code",
   "execution_count": 4,
   "metadata": {},
   "outputs": [
    {
     "name": "stdout",
     "output_type": "stream",
     "text": [
      "Snail will get out of well within 11 days.\n"
     ]
    }
   ],
   "source": [
    "print('Snail will get out of well within', days, 'days.')"
   ]
  },
  {
   "cell_type": "markdown",
   "metadata": {},
   "source": [
    "## Bonus\n",
    "The distance traveled by the snail each day is now defined by a list.\n",
    "```\n",
    "advance_cm = [30, 21, 33, 77, 44, 45, 23, 45, 12, 34, 55]\n",
    "```\n",
    "On the first day, the snail rises 30cm but during the night it slides 20cm. On the second day, the snail rises 21cm but during the night it slides 20cm, and so on. \n",
    "\n",
    "#### 1. How many days does it take for the snail to escape the well?\n",
    "Follow the same guidelines as in the previous challenge.\n",
    "\n",
    "**Hint**: Remember that the snail gets out of the well when it surpasses the 125cm of height."
   ]
  },
  {
   "cell_type": "code",
   "execution_count": 5,
   "metadata": {},
   "outputs": [
    {
     "name": "stdout",
     "output_type": "stream",
     "text": [
      "Snail will get out of well within 5 days.\n"
     ]
    }
   ],
   "source": [
    "advance_cm = [30, 21, 33, 77, 44, 45, 23, 45, 12, 34, 55]\n",
    "well_height = 125\n",
    "daily_distance = 0\n",
    "nightly_distance = 20\n",
    "snail_position = 0\n",
    "days = 0\n",
    "i = 0\n",
    "\n",
    "while snail_position < well_height:\n",
    "    days += 1    \n",
    "    daily_distance = advance_cm[i]\n",
    "#     print(daily_distance)\n",
    "    snail_position += daily_distance\n",
    "    i += 1\n",
    "#     print('Daily position', snail_position)\n",
    "    if snail_position < well_height:\n",
    "        snail_position -= nightly_distance\n",
    "#         print('Nighly position', snail_position)\n",
    "\n",
    "print('Snail will get out of well within', days, 'days.')"
   ]
  },
  {
   "cell_type": "markdown",
   "metadata": {},
   "source": [
    "#### 2. What is its maximum displacement in one day? And its minimum? Calculate the displacement using only the travel distance of the days used to get out of the well. \n",
    "**Hint**: Remember that displacement means the total distance risen taking into account that the snail slides at night.  "
   ]
  },
  {
   "cell_type": "code",
   "execution_count": 6,
   "metadata": {},
   "outputs": [
    {
     "name": "stdout",
     "output_type": "stream",
     "text": [
      "Maximum displacement is 57\n",
      "Minimum displacement is 1\n"
     ]
    }
   ],
   "source": [
    "advance_cm = [30, 21, 33, 77, 44, 45, 23, 45, 12, 34, 55]\n",
    "well_height = 125\n",
    "daily_distance = 0\n",
    "nightly_distance = 20\n",
    "snail_position = 0\n",
    "days = 0\n",
    "i = 0\n",
    "displacement_list = []\n",
    "\n",
    "while snail_position < well_height:\n",
    "    days += 1    \n",
    "    daily_distance = advance_cm[i]\n",
    "    snail_position += daily_distance\n",
    "    i += 1\n",
    "    if snail_position < well_height:\n",
    "        snail_position -= nightly_distance\n",
    "    displacement_list.append(daily_distance - nightly_distance)\n",
    "\n",
    "# print(displacement_list)\n",
    "max_disp = max(displacement_list)\n",
    "min_disp = min(displacement_list)\n",
    "print('Maximum displacement is', max_disp)\n",
    "print('Minimum displacement is', min_disp)"
   ]
  },
  {
   "cell_type": "markdown",
   "metadata": {},
   "source": [
    "#### 3. What is its average progress? Take into account the snail slides at night."
   ]
  },
  {
   "cell_type": "code",
   "execution_count": 7,
   "metadata": {},
   "outputs": [
    {
     "name": "stdout",
     "output_type": "stream",
     "text": [
      "Average progress is 21.0\n"
     ]
    }
   ],
   "source": [
    "advance_cm = [30, 21, 33, 77, 44, 45, 23, 45, 12, 34, 55]\n",
    "well_height = 125\n",
    "daily_distance = 0\n",
    "nightly_distance = 20\n",
    "snail_position = 0\n",
    "days = 0\n",
    "i = 0\n",
    "displacement_list = []\n",
    "\n",
    "while snail_position < well_height:\n",
    "    days += 1    \n",
    "    daily_distance = advance_cm[i]\n",
    "    snail_position += daily_distance\n",
    "    i += 1\n",
    "    if snail_position < well_height:\n",
    "        snail_position -= nightly_distance\n",
    "    displacement_list.append(daily_distance - nightly_distance)\n",
    "\n",
    "# print(displacement_list)\n",
    "average_progress = sum(displacement_list)/len(displacement_list)\n",
    "print('Average progress is', average_progress)"
   ]
  },
  {
   "cell_type": "markdown",
   "metadata": {},
   "source": [
    "#### 4. What is the standard deviation of its displacement? Take into account the snail slides at night."
   ]
  },
  {
   "cell_type": "code",
   "execution_count": 8,
   "metadata": {},
   "outputs": [
    {
     "name": "stdout",
     "output_type": "stream",
     "text": [
      "Standard deviation is 21.737065119284157\n",
      "Standard deviation is 19.44222209522358\n",
      "Variance in resulsts is due to variance in approach: stdev module calculates sample standard deviation and \n",
      "manual calculation calculates standard deviation\n"
     ]
    }
   ],
   "source": [
    "# Calculation using statistics library.\n",
    "import statistics\n",
    "\n",
    "st_dev = statistics.stdev(displacement_list)\n",
    "print('Standard deviation is', st_dev)\n",
    "\n",
    "# Manual calculation.\n",
    "disp_square = []\n",
    "for n in range(len(displacement_list)):\n",
    "    disp_square.append((displacement_list[n] - average_progress)**2)\n",
    "st_dev = (sum(disp_square)/len(displacement_list))**(1/2)\n",
    "print('Standard deviation is', st_dev)\n",
    "\n",
    "print(\"Variance in resulsts is due to variance in approach: stdev module calculates sample standard deviation and \\n\"\\\n",
    "    \"manual calculation calculates standard deviation\")"
   ]
  },
  {
   "cell_type": "code",
   "execution_count": null,
   "metadata": {},
   "outputs": [],
   "source": []
  }
 ],
 "metadata": {
  "kernelspec": {
   "display_name": "Python 3",
   "language": "python",
   "name": "python3"
  },
  "language_info": {
   "codemirror_mode": {
    "name": "ipython",
    "version": 3
   },
   "file_extension": ".py",
   "mimetype": "text/x-python",
   "name": "python",
   "nbconvert_exporter": "python",
   "pygments_lexer": "ipython3",
   "version": "3.8.3"
  }
 },
 "nbformat": 4,
 "nbformat_minor": 2
}
