{
 "cells": [
  {
   "cell_type": "markdown",
   "metadata": {},
   "source": [
    "<img src=\"https://bit.ly/2VnXWr2\" width=\"100\" align=\"left\">"
   ]
  },
  {
   "cell_type": "markdown",
   "metadata": {},
   "source": [
    "# Temperature Sensor\n",
    "\n",
    "There is a temperature sensor in the processor of your company's server. The company wants to analyze the data provided by the sensor to decide if they should change the cooling system for a better one. As changing the cooling system is expensive and you are an excellent data analyst, you can't make a decision without basis.\n",
    "\n",
    "## Tools\n",
    "You don't necessarily need to use all the tools. Maybe you opt to use some of them or completely different ones, they are given to help you shape the exercise. Programming exercises can be solved in many different ways.\n",
    "1. Data structures: **lists**\n",
    "2. Loops: **list comprehension**\n",
    "3. Functions: **min, max, print, len**\n",
    "4. Conditional statements: **if-elif-else**\n",
    "\n",
    "## Tasks\n",
    "The temperatures measured throughout the 24 hours of a day are:"
   ]
  },
  {
   "cell_type": "code",
   "execution_count": 1,
   "metadata": {},
   "outputs": [],
   "source": [
    "temperatures_C = [33, 66, 65, 0, 59, 60, 62, 64, 70, 76, 80, 81, 80, 83, 90, 79, 61, 53, 50, 49, 53, 48, 45, 39]"
   ]
  },
  {
   "cell_type": "markdown",
   "metadata": {},
   "source": [
    "The first element of the list is the temperature at 12am, the second element is the temperature at 1am, and so on. \n",
    "\n",
    "The company has decided that if one of the following events occurs, then the cooling system needs to be replaced for a new one to avoid damaging the processor.\n",
    "* More than 4 temperatures are greater than or equal to 70ºC.\n",
    "* Any temperature is above 80ºC.\n",
    "* The average temperature exceeds 65ºC.\n",
    "\n",
    "Follow the steps so that you can make the decision.\n",
    "\n",
    "#### 1. Find the minimum temperature of the day and store it in a variable."
   ]
  },
  {
   "cell_type": "code",
   "execution_count": 2,
   "metadata": {},
   "outputs": [],
   "source": [
    "t_min = min(temperatures_C)"
   ]
  },
  {
   "cell_type": "markdown",
   "metadata": {},
   "source": [
    "#### 2. Find the maximum temperature of the day and store it in a variable."
   ]
  },
  {
   "cell_type": "code",
   "execution_count": 3,
   "metadata": {},
   "outputs": [],
   "source": [
    "t_max = max(temperatures_C)"
   ]
  },
  {
   "cell_type": "markdown",
   "metadata": {},
   "source": [
    "#### 3. Create a list with the temperatures that are greater than or equal to 70ºC. Store it in a variable."
   ]
  },
  {
   "cell_type": "code",
   "execution_count": 4,
   "metadata": {},
   "outputs": [],
   "source": [
    "limit = 70\n",
    "above_limit = []\n",
    "for temp in temperatures_C:\n",
    "    if temp >= limit:\n",
    "        above_limit.append(temp)"
   ]
  },
  {
   "cell_type": "markdown",
   "metadata": {},
   "source": [
    "#### 4. Find the average temperature of the day and store it in a variable."
   ]
  },
  {
   "cell_type": "code",
   "execution_count": 5,
   "metadata": {},
   "outputs": [],
   "source": [
    "t_mean = sum(temperatures_C) / len(temperatures_C)"
   ]
  },
  {
   "cell_type": "markdown",
   "metadata": {},
   "source": [
    "#### 5. Imagine that there was a sensor failure at 3am and the data for that specific hour was not recorded. How would you estimate the missing value? Replace the current value of the list at 3am for an estimation. "
   ]
  },
  {
   "cell_type": "code",
   "execution_count": 6,
   "metadata": {},
   "outputs": [],
   "source": [
    "t_revised_C = temperatures_C.copy()\n",
    "del t_revised_C[3]\n",
    "\n",
    "t_mean_revised = sum(t_revised_C) / len(t_revised_C)\n",
    "t_revised_C.insert(3, int(round(t_mean_revised, 0)))"
   ]
  },
  {
   "cell_type": "markdown",
   "metadata": {},
   "source": [
    "#### 6. Bonus: the maintenance staff is from the United States and does not understand the international metric system. Help them by converting the temperatures from Celsius to Fahrenheit.\n",
    "To know more about temperature conversion check this [link](https://en.wikipedia.org/wiki/Conversion_of_units_of_temperature).\n",
    "\n",
    "**Formula**: \n",
    "\n",
    "$F = 1.8 * C + 32$"
   ]
  },
  {
   "cell_type": "code",
   "execution_count": 7,
   "metadata": {},
   "outputs": [],
   "source": [
    "temperatures_F = []\n",
    "t_revised_F = []\n",
    "for temp in temperatures_C:\n",
    "    temperatures_F.append(int(round(1.8*temp + 32, 0)))\n",
    "for temp in t_revised_C:\n",
    "    t_revised_F.append(int(round(1.8*temp + 32, 0)))"
   ]
  },
  {
   "cell_type": "markdown",
   "metadata": {},
   "source": [
    "#### 7. Make a decision!\n",
    "Now it's time to make a decision taking into account what you have seen until now. \n",
    "\n",
    "Remember that if one of the following events occurs, then the cooling system needs to be replaced for a new one to avoid damaging the processor.\n",
    "* More than 4 temperatures are greater than or equal to 70ºC.\n",
    "* Any temperature is above 80ºC.\n",
    "* The average temperature exceeds 65ºC.\n",
    "\n",
    "#### To make your decision, check if any of the three conditions above is met. You might need to use some of the variables you created in steps 1 to 6. Print a message to show if the cooling system needs to be changed or not."
   ]
  },
  {
   "cell_type": "code",
   "execution_count": 8,
   "metadata": {},
   "outputs": [
    {
     "name": "stdout",
     "output_type": "stream",
     "text": [
      "Method 1.\n",
      "The cooling system needs to be replaced.\n",
      "Method 2.\n",
      "Test 1 failed\n",
      "Test 2 failed\n",
      "Test 3 passed\n",
      "The cooling system needs to be replaced.\n"
     ]
    }
   ],
   "source": [
    "t_max_revised = max(t_revised_C)\n",
    "t_mean_revised = sum(t_revised_C) / len(t_revised_C)\n",
    "\n",
    "limit = 70\n",
    "above_limit = []\n",
    "for temp in t_revised_C:\n",
    "    if temp >= limit:\n",
    "        above_limit.append(temp)\n",
    "\n",
    "# Method 1 - short but doesn't give information which conditions are met.\n",
    "print(\"Method 1.\")\n",
    "if len(above_limit) >= 4 or t_mean_revised > 65 or t_max_revised > 80:\n",
    "    print(\"The cooling system needs to be replaced.\")\n",
    "else:\n",
    "    print(\"The cooling system is sufficient.\")\n",
    "    \n",
    "    \n",
    "# Method 2 - loger but gives clear information which conditions are met.\n",
    "print(\"Method 2.\")\n",
    "counter = 0\n",
    "if len(above_limit) >= 4:\n",
    "    print(\"Test 1 failed\")\n",
    "    counter += 1\n",
    "else:\n",
    "    print(\"Test 1 passed\")\n",
    "if t_max > 80:\n",
    "    print(\"Test 2 failed\")\n",
    "    counter += 1\n",
    "else:\n",
    "    print(\"Test 2 passed\")\n",
    "if t_mean > 65:\n",
    "    print(\"Test 3 failed\")\n",
    "    counter += 1\n",
    "else:\n",
    "    print(\"Test 3 passed\")\n",
    "    \n",
    "if counter > 0:\n",
    "    print(\"The cooling system needs to be replaced.\")\n",
    "else:\n",
    "    print(\"The cooling system is sufficient.\")"
   ]
  },
  {
   "cell_type": "markdown",
   "metadata": {},
   "source": [
    "## Bonus\n",
    "\n",
    "The company has decided that the decision you made is not valid. They want you to analyze the data again but this time, the conditions that need to be met in order to change the cooling system are different.\n",
    "\n",
    "This time, if one of the following events occurs, then the cooling system needs to be replaced:\n",
    "* The temperature is greater than 70ºC during more than 4 consecutive hours.\n",
    "* Any temperature is above 80ºC.\n",
    "* The average temperature exceeds 65ºC.\n",
    "\n",
    "Follow the steps so that you can make the decision.\n",
    "\n",
    "#### 1. Create a list with the hours where the temperature is greater than 70ºC. Store it in a variable."
   ]
  },
  {
   "cell_type": "code",
   "execution_count": 9,
   "metadata": {},
   "outputs": [],
   "source": [
    "above_limit_hours = []\n",
    "for n in range(len(t_revised_C)):\n",
    "    if t_revised_C[n] > limit:\n",
    "        above_limit_hours.append(n)"
   ]
  },
  {
   "cell_type": "markdown",
   "metadata": {},
   "source": [
    "#### 2. Check if the list you created in step 1 has more than 4 consecutive hours. "
   ]
  },
  {
   "cell_type": "code",
   "execution_count": 10,
   "metadata": {},
   "outputs": [],
   "source": [
    "cons_h = 0\n",
    "for n in range(len(above_limit_hours)):\n",
    "    if ((above_limit_hours[n] - above_limit_hours[n-1]) == 1):\n",
    "        cons_h += 1"
   ]
  },
  {
   "cell_type": "markdown",
   "metadata": {},
   "source": [
    "#### 3. Make the decision!\n",
    "To make your decision, check if any of the three conditions is met. Print a message to show if the cooling system needs to be changed or not."
   ]
  },
  {
   "cell_type": "code",
   "execution_count": 11,
   "metadata": {},
   "outputs": [
    {
     "name": "stdout",
     "output_type": "stream",
     "text": [
      "Method 1.\n",
      "The cooling system needs to be replaced.\n",
      "Method 2.\n",
      "Test 1 failed\n",
      "Test 2 failed\n",
      "Test 3 passed\n",
      "The cooling system needs to be replaced.\n"
     ]
    }
   ],
   "source": [
    "# Method 1 - short but doesn't give information which conditions are met.\n",
    "print(\"Method 1.\")\n",
    "if cons_h >= 4 or t_mean_revised > 65 or t_max_revised > 80:\n",
    "    print(\"The cooling system needs to be replaced.\")\n",
    "else:\n",
    "    print(\"The cooling system is sufficient.\")\n",
    "    \n",
    "    \n",
    "# Method 2 - loger but gives clear information which conditions are met.\n",
    "print(\"Method 2.\")\n",
    "counter = 0\n",
    "if cons_h >= 4:\n",
    "    print(\"Test 1 failed\")\n",
    "    counter += 1\n",
    "else:\n",
    "    print(\"Test 1 passed\")\n",
    "if t_max > 80:\n",
    "    print(\"Test 2 failed\")\n",
    "    counter += 1\n",
    "else:\n",
    "    print(\"Test 2 passed\")\n",
    "if t_mean > 65:\n",
    "    print(\"Test 3 failed\")\n",
    "    counter += 1\n",
    "else:\n",
    "    print(\"Test 3 passed\")\n",
    "    \n",
    "if counter > 0:\n",
    "    print(\"The cooling system needs to be replaced.\")\n",
    "else:\n",
    "    print(\"The cooling system is sufficient.\")"
   ]
  },
  {
   "cell_type": "markdown",
   "metadata": {},
   "source": [
    "#### 4. Find the average value of the temperature lists (ºC and ºF). What is the relation between both average values?"
   ]
  },
  {
   "cell_type": "code",
   "execution_count": 12,
   "metadata": {},
   "outputs": [
    {
     "name": "stdout",
     "output_type": "stream",
     "text": [
      "Average of temperature in Fahrenheit is 2.31 times higher than average of temperature in Celcium.\n"
     ]
    }
   ],
   "source": [
    "t_mean_revised_C = t_mean_revised\n",
    "\n",
    "t_mean_revised_F = sum(t_revised_F) / len(t_revised_F)\n",
    "\n",
    "print(\"Average of temperature in Fahrenheit is\", round(t_mean_revised_F/t_mean_revised_C, 2), \"times higher than average of \\\n",
    "temperature in Celcium.\")"
   ]
  },
  {
   "cell_type": "markdown",
   "metadata": {},
   "source": [
    "#### 5. Find the standard deviation of the temperature lists (ºC and ºF). What is the relation between both standard deviations?"
   ]
  },
  {
   "cell_type": "code",
   "execution_count": 13,
   "metadata": {},
   "outputs": [
    {
     "name": "stdout",
     "output_type": "stream",
     "text": [
      "Standard deviation of temperature in Fahrenheit is 1.81 times higher than Standard deviation of temperature in Celcium.\n"
     ]
    }
   ],
   "source": [
    "import statistics\n",
    "\n",
    "st_dev_revised_C = statistics.stdev(t_revised_C)\n",
    "st_dev_revised_F = statistics.stdev(t_revised_F)\n",
    "\n",
    "print(\"Standard deviation of temperature in Fahrenheit is\", round(st_dev_revised_F/st_dev_revised_C, 2), \\\n",
    "      \"times higher than Standard deviation of temperature in Celcium.\")"
   ]
  },
  {
   "cell_type": "code",
   "execution_count": null,
   "metadata": {},
   "outputs": [],
   "source": []
  }
 ],
 "metadata": {
  "kernelspec": {
   "display_name": "Python 3",
   "language": "python",
   "name": "python3"
  },
  "language_info": {
   "codemirror_mode": {
    "name": "ipython",
    "version": 3
   },
   "file_extension": ".py",
   "mimetype": "text/x-python",
   "name": "python",
   "nbconvert_exporter": "python",
   "pygments_lexer": "ipython3",
   "version": "3.8.3"
  }
 },
 "nbformat": 4,
 "nbformat_minor": 2
}
