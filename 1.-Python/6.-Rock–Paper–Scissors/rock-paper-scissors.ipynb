{
 "cells": [
  {
   "cell_type": "markdown",
   "metadata": {},
   "source": [
    "<img src=\"https://bit.ly/2VnXWr2\" width=\"100\" align=\"left\">"
   ]
  },
  {
   "cell_type": "markdown",
   "metadata": {},
   "source": [
    "# Rock, Paper & Scissors\n",
    "\n",
    "Let's play the famous game against our computer. You can check the rules [here](https://en.wikipedia.org/wiki/Rock%E2%80%93paper%E2%80%93scissors). \n",
    "\n",
    "## Task\n",
    "Create a program that imitates the playability of the well known game of rock, paper, scissors. Follow the guidelines provided.\n",
    "\n",
    "## Tools\n",
    "1. Loop: **for/while**\n",
    "2. Functions: **input(), print()...**\n",
    "3. Conditional statements: **if, elif, else**\n",
    "4. Definition of functions. Modular programming\n",
    "5. Import modules\n",
    "\n",
    "**To solve this challenge, the use of functions is recommended.**\n",
    "\n",
    "#### 1. Import the choice function of the random module."
   ]
  },
  {
   "cell_type": "code",
   "execution_count": 1,
   "metadata": {},
   "outputs": [],
   "source": [
    "from random import choice"
   ]
  },
  {
   "cell_type": "markdown",
   "metadata": {},
   "source": [
    "#### 2. Create a list that includes the 3 possible gesture options of the game: 'rock', 'paper' or 'scissors'. Store the list in a variable called `gestures`."
   ]
  },
  {
   "cell_type": "code",
   "execution_count": 2,
   "metadata": {},
   "outputs": [],
   "source": [
    "gestures = ['rock', 'paper', 'scissors']"
   ]
  },
  {
   "cell_type": "markdown",
   "metadata": {},
   "source": [
    "#### 3. Create a variable called `n_rounds` to store the maximum number of rounds to play in a game. \n",
    "Remember that the number of rounds must be odd: 1, 3, 5, ..."
   ]
  },
  {
   "cell_type": "code",
   "execution_count": 3,
   "metadata": {},
   "outputs": [],
   "source": [
    "n_rounds = 3"
   ]
  },
  {
   "cell_type": "markdown",
   "metadata": {},
   "source": [
    "#### 4. Create a variable called `rounds_to_win` to store the number of rounds that a player must win to win the game.\n",
    "**Hint**: the value stored in `rounds_to_win` depends on the value of `n_rounds`. "
   ]
  },
  {
   "cell_type": "code",
   "execution_count": 4,
   "metadata": {},
   "outputs": [],
   "source": [
    "rounds_to_win = int(n_rounds/2 + 1)"
   ]
  },
  {
   "cell_type": "markdown",
   "metadata": {},
   "source": [
    "#### 5. Create two variables to store the number of rounds that the computer and the player have won. Call these variables `cpu_score` and `player_score`."
   ]
  },
  {
   "cell_type": "code",
   "execution_count": 5,
   "metadata": {},
   "outputs": [],
   "source": [
    "cpu_score = 0\n",
    "player_score = 0"
   ]
  },
  {
   "cell_type": "markdown",
   "metadata": {},
   "source": [
    "#### 6. Define a function that randomly returns one of the 3 gesture options.\n",
    "You will use this function to simulate the gesture choice of the computer. "
   ]
  },
  {
   "cell_type": "code",
   "execution_count": 6,
   "metadata": {},
   "outputs": [],
   "source": [
    "def cpu_choice(sequence):\n",
    "    '''This function simulates the gesture choice of the computer out of given list.'''\n",
    "\n",
    "    computer_choice = choice(sequence)\n",
    "    return(computer_choice)"
   ]
  },
  {
   "cell_type": "markdown",
   "metadata": {},
   "source": [
    "#### 7. Define a function that asks the player which is the gesture he or she wants to show: 'rock', 'paper' or 'scissors'.\n",
    "The player should only be allowed to choose one of the 3 gesture options. If the player's choice is not rock, paper or scissors, keep asking until it is."
   ]
  },
  {
   "cell_type": "code",
   "execution_count": 7,
   "metadata": {},
   "outputs": [],
   "source": [
    "def user_choice(sequence):\n",
    "    '''This function asks for user's input for gesture and validates it agains given list.'''\n",
    "\n",
    "    player_choice = input(f\"Please choose {', '.join(gestures[:-1])} or {gestures[-1]}: \")\n",
    "    while player_choice not in sequence:\n",
    "        player_choice = input(f\"Wrong gesture, please choose {', '.join(gestures[:-1])} or {gestures[-1]}: \")\n",
    "    return(player_choice)"
   ]
  },
  {
   "cell_type": "markdown",
   "metadata": {},
   "source": [
    "#### 8. Define a function that checks who won a round. \n",
    "The function should return 0 if there is a tie, 1 if the computer wins and 2 if the player wins."
   ]
  },
  {
   "cell_type": "code",
   "execution_count": 8,
   "metadata": {},
   "outputs": [],
   "source": [
    "options = {('rock', 'paper'): 2, ('paper', 'rock'): 1,\n",
    "           ('paper', 'scissors'): 2, ('scissors', 'paper'): 1,\n",
    "           ('scissors', 'rock'): 2, ('rock', 'scissors'): 1}\n",
    "\n",
    "def round_win(sequence):\n",
    "    '''This function uses two previously described functions \"cpu_choice\" and \"user_choice\" to obtain both computer's and user's\n",
    "    gesture choice and then compares it with given dictionary to identify winner of the round.'''\n",
    "\n",
    "    results = {'Tie': 0, 'Computer wins': 1, 'Player wins': 2}\n",
    "    result = 0\n",
    "    cpu_shot = cpu_choice(sequence)\n",
    "    player_shot = user_choice(sequence)\n",
    "\n",
    "    round_game = ('blank', 'blank')\n",
    "\n",
    "    if cpu_shot == player_shot:\n",
    "        result = 0\n",
    "    else:\n",
    "        round_game = (cpu_shot, player_shot)\n",
    "        result = options.get(round_game)\n",
    "\n",
    "    for key, value in results.items():\n",
    "        if value == result:\n",
    "           round_result = key\n",
    "    return(cpu_shot, player_shot, round_result, result)"
   ]
  },
  {
   "cell_type": "markdown",
   "metadata": {},
   "source": [
    "#### 9. Define a function that prints the choice of the computer, the choice of the player and a message that announces who won the current round. \n",
    "You should also use this function to update the variables that count the number of rounds that the computer and the player have won. The score of the winner increases by one point. If there is a tie, the score does not increase."
   ]
  },
  {
   "cell_type": "code",
   "execution_count": 9,
   "metadata": {},
   "outputs": [],
   "source": [
    "def round_play(sequence):\n",
    "    '''This function prints out the result of the round based on the result calculated by function \"round_win\".'''\n",
    "    \n",
    "    mylist = round_win(sequence)\n",
    "\n",
    "    print(f\"Computer's choice is {mylist[0]}.\")\n",
    "    print(f\"Player's choise is {mylist[1]}.\")\n",
    "    print(f\"Result of this round: {mylist[2]}.\")\n",
    "    print(\"\\n\")\n",
    "    return(mylist[3])"
   ]
  },
  {
   "cell_type": "markdown",
   "metadata": {},
   "source": [
    "#### 10. Now it's time to code the execution of the game using the functions and variables you defined above. \n",
    "\n",
    "First, create a loop structure that repeats while no player reaches the minimum score necessary to win and the number of rounds is less than the maximum number of rounds to play in a game.  \n",
    "\n",
    "Inside the loop, use the functions and variables above to create the execution of a round: ask for the player's choice, generate the random choice of the computer, show the round results, update the scores, etc. "
   ]
  },
  {
   "cell_type": "code",
   "execution_count": 10,
   "metadata": {},
   "outputs": [
    {
     "name": "stdout",
     "output_type": "stream",
     "text": [
      "Please choose rock, paper or scissors: rock\n",
      "Computer's choice is paper.\n",
      "Player's choise is rock.\n",
      "Result of this round: Computer wins.\n",
      "\n",
      "\n",
      "Please choose rock, paper or scissors: rock\n",
      "Computer's choice is scissors.\n",
      "Player's choise is rock.\n",
      "Result of this round: Player wins.\n",
      "\n",
      "\n",
      "Please choose rock, paper or scissors: rock\n",
      "Computer's choice is paper.\n",
      "Player's choise is rock.\n",
      "Result of this round: Computer wins.\n",
      "\n",
      "\n",
      "2 1\n"
     ]
    }
   ],
   "source": [
    "round_number = 0\n",
    "\n",
    "while round_number < n_rounds:\n",
    "    round_result = round_play(gestures)\n",
    "    round_number += 1\n",
    "    if round_result == 1:\n",
    "        cpu_score += 1\n",
    "    elif round_result == 2:\n",
    "        player_score += 1\n",
    "\n",
    "print(cpu_score, player_score)"
   ]
  },
  {
   "cell_type": "markdown",
   "metadata": {},
   "source": [
    "#### 11. Print the winner of the game based on who won more rounds.\n",
    "Remember that the game might be tied. "
   ]
  },
  {
   "cell_type": "code",
   "execution_count": 11,
   "metadata": {},
   "outputs": [
    {
     "name": "stdout",
     "output_type": "stream",
     "text": [
      "Computer wins the game.\n"
     ]
    }
   ],
   "source": [
    "if cpu_score >= rounds_to_win:\n",
    "    print(\"Computer wins the game.\")\n",
    "elif player_score >= rounds_to_win:\n",
    "    print(\"Player wins the game.\")\n",
    "else:\n",
    "    print(\"It's a tie.\")"
   ]
  },
  {
   "cell_type": "markdown",
   "metadata": {},
   "source": [
    "# Bonus: Rock, Paper, Scissors, Lizard & Spock\n",
    "![](images/rpsls.jpg)\n",
    "\n",
    "In this challenge, you need to improve the previous game by adding two new options. To know more about the rules of the improved version of rock, paper, scissors, check this [link](http://www.samkass.com/theories/RPSSL.html). \n",
    "\n",
    "In addition, you will also need to improve how the game interacts with the player: the number of rounds to play, which must be an odd number, will be requested to the user until a valid number is entered. Define a new function to make that request.\n",
    "\n",
    "**Hint**: Try to reuse the code that you already coded in the previous challenge. If your code is efficient, this bonus will only consist of simple modifications to the original game."
   ]
  },
  {
   "cell_type": "code",
   "execution_count": 12,
   "metadata": {},
   "outputs": [],
   "source": [
    "def n_rounds_choice():\n",
    "    '''This function asks for user's input of amount of rounds per game and validates if it's integer and odd.'''\n",
    "    while True:\n",
    "        print(\"Please choose an odd number of rounds per game: \")\n",
    "        n_rounds = input()\n",
    "        try:\n",
    "            n_rounds = int(n_rounds)\n",
    "        except:\n",
    "            print(\"It's not a number, please choose an odd number: \")\n",
    "            continue\n",
    "        if n_rounds % 2 == 0:\n",
    "            print(\"Your number is not odd, please choose an odd number: \")\n",
    "            continue\n",
    "        break\n",
    "    return(n_rounds)"
   ]
  },
  {
   "cell_type": "code",
   "execution_count": 13,
   "metadata": {},
   "outputs": [
    {
     "name": "stdout",
     "output_type": "stream",
     "text": [
      "Please choose an odd number of rounds per game: \n",
      "1\n",
      "Please choose rock, paper, scissors, lizard or Spock: rock\n",
      "Computer's choice is Spock.\n",
      "Player's choise is rock.\n",
      "Result of this round: Computer wins.\n",
      "\n",
      "\n"
     ]
    }
   ],
   "source": [
    "n_rounds = n_rounds_choice()\n",
    "\n",
    "gestures = ['rock', 'paper', 'scissors', 'lizard', 'Spock']\n",
    "options = {('rock', 'paper'): 2, ('paper', 'rock'): 1,\n",
    "           ('paper', 'scissors'): 2, ('scissors', 'paper'): 1,\n",
    "           ('scissors', 'rock'): 2, ('rock', 'scissors'): 1,\n",
    "           ('lizard', 'rock'): 2, ('rock', 'lizard'): 1,\n",
    "           ('rock', 'Spock'): 2, ('Spock', 'rock'): 1,\n",
    "           ('paper', 'lizard'): 2, ('lizard', 'paper'): 1,\n",
    "           ('Spock', 'paper'): 2, ('paper', 'Spock'): 1,\n",
    "           ('lizard', 'scissors'): 2, ('scissors', 'lizard'): 1,\n",
    "           ('scissors', 'Spock'): 2, ('Spock', 'scissors'): 1,\n",
    "           ('Spock', 'lizard'): 2, ('lizard', 'Spock'): 1}\n",
    "round_number = 0\n",
    "rounds_to_win = int(n_rounds/2 + 1) # This value should be reset in order to align with new n_rounds value\n",
    "cpu_score = 0 # This value should be reset to zero to remove results from prior played games\n",
    "player_score = 0 # This value should be reset to zero to remove results from prior played games\n",
    "\n",
    "while round_number < n_rounds:\n",
    "    round_result = round_play(gestures)\n",
    "    round_number += 1\n",
    "    if round_result == 1:\n",
    "        cpu_score += 1\n",
    "    elif round_result == 2:\n",
    "        player_score += 1"
   ]
  },
  {
   "cell_type": "code",
   "execution_count": 14,
   "metadata": {},
   "outputs": [
    {
     "name": "stdout",
     "output_type": "stream",
     "text": [
      "Computer wins the game.\n"
     ]
    }
   ],
   "source": [
    "if cpu_score >= rounds_to_win:\n",
    "    print(\"Computer wins the game.\")\n",
    "elif player_score >= rounds_to_win:\n",
    "    print(\"Player wins the game.\")\n",
    "else:\n",
    "    print(\"It's a tie.\")"
   ]
  },
  {
   "cell_type": "code",
   "execution_count": null,
   "metadata": {},
   "outputs": [],
   "source": []
  }
 ],
 "metadata": {
  "kernelspec": {
   "display_name": "Python 3",
   "language": "python",
   "name": "python3"
  },
  "language_info": {
   "codemirror_mode": {
    "name": "ipython",
    "version": 3
   },
   "file_extension": ".py",
   "mimetype": "text/x-python",
   "name": "python",
   "nbconvert_exporter": "python",
   "pygments_lexer": "ipython3",
   "version": "3.8.3"
  }
 },
 "nbformat": 4,
 "nbformat_minor": 2
}
